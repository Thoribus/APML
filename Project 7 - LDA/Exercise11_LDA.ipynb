{
 "cells": [
  {
   "cell_type": "markdown",
   "metadata": {},
   "source": [
    "### Notes: ###\n",
    "\n",
    "- recommended lda package (https://pypi.org/project/lda/) uses collapsed gibs sampling\n",
    "    - but looks not so powerful\n",
    "- recommended gensim libary uses online variational inference\n",
    "    - looks good, install: https://visualstudio.microsoft.com/de/visual-cpp-build-tools/ to use it\n",
    "    - Also pyLDAvis has the same problem..\n",
    "      \n",
    "- Therefore we currently use scikit learn. It uses online variational inference\n",
    "\n"
   ]
  },
  {
   "cell_type": "markdown",
   "metadata": {},
   "source": [
    "# Topic modeling with latent Dirichlet allocation (LDA) "
   ]
  },
  {
   "cell_type": "markdown",
   "metadata": {},
   "source": [
    "We will study the Reuters-21578 document collection, which contains news wire articles.\n",
    "\n",
    "First we download and load the Reuters-21578 dataset using the *Natural Language Toolkit* (*NLTK*), which is a platform for handling natural language in Python. It provides access to several text corpora and functions for handling text data."
   ]
  },
  {
   "cell_type": "code",
   "execution_count": 8,
   "metadata": {
    "scrolled": true
   },
   "outputs": [
    {
     "name": "stderr",
     "output_type": "stream",
     "text": [
      "[nltk_data] Downloading package reuters to\n",
      "[nltk_data]     C:\\Users\\lucas\\AppData\\Roaming\\nltk_data...\n",
      "[nltk_data]   Package reuters is already up-to-date!\n"
     ]
    }
   ],
   "source": [
    "import nltk\n",
    "import numpy as np\n",
    "from nltk.corpus import reuters\n",
    "from sklearn.decomposition import LatentDirichletAllocation\n",
    "nltk.download('reuters')\n",
    "articles=[]\n",
    "for doc_id in reuters.fileids():\n",
    "    articles.append(reuters.raw(doc_id))"
   ]
  },
  {
   "cell_type": "markdown",
   "metadata": {},
   "source": [
    "The variable $articles$ now contains 10788 documents in the form of strings.\n",
    "\n",
    "LDA is a bag-of-words model. This means that for performing inference with the LDA model, it suffices to know which words appear in a document and how often each word appears. Therefore we will pass the document collection as a document word frequency matrix. The document word frequency matrix is a 2D array where rows represent documents and columns represent words and each cell counts how many times the specific word appears in a given document.\n",
    "\n",
    "The following code constructs a document word matrix $tf$, pruning the vocabulary of words such that it only contains words  that:\n",
    "\n",
    "* have latin characters and are of length 3 or more characters (token_pattern='[a-zA-Z]{3,}'),\n",
    "\n",
    "* are not english stop words, that is, frequent but uninformative words such as \"the\" or \"a\" (stop_words='english')\n",
    "\n",
    "* occur in at least 0.2% of all documents and at most 70% of all documents (max_df=0.70, min_df=0.002)\n",
    "\n",
    "and out of these using the 2000 most frequent words (max_features=2000)."
   ]
  },
  {
   "cell_type": "code",
   "execution_count": 9,
   "metadata": {},
   "outputs": [],
   "source": [
    "from sklearn.feature_extraction.text import CountVectorizer\n",
    "tf = CountVectorizer( token_pattern='[a-zA-Z]{3,}',max_df=0.70, min_df=0.002,max_features=2000,stop_words='english')\n",
    "articles_words = tf.fit_transform(articles)\n",
    "word_index = tf.get_feature_names_out()"
   ]
  },
  {
   "cell_type": "markdown",
   "metadata": {},
   "source": [
    "#### Doing the Latent Dirichlet Allocation\n",
    "Using sklearn.decomposition.LatentDirichletAllocation, we trained a LDA model with varying number of topics on the document collection using the document word frequency matrix *articles_words*. The Dirichlet prior parameters $\\alpha$ and $\\eta$ are left at their default values of $1/K$. Multicore processing is turned on.\n",
    "The perplexity is printed for each chosen configuration and we can then chose the best number of topics."
   ]
  },
  {
   "cell_type": "code",
   "execution_count": 38,
   "metadata": {
    "scrolled": true
   },
   "outputs": [
    {
     "name": "stdout",
     "output_type": "stream",
     "text": [
      "Perplexity with 5 Topics: 506.2631074264214\n",
      "Perplexity with 10 Topics: 456.2587930213703\n",
      "Perplexity with 20 Topics: 414.62708578839397\n",
      "Perplexity with 30 Topics: 404.25149758610024\n",
      "Perplexity with 40 Topics: 396.65100459245787\n",
      "Perplexity with 50 Topics: 393.43710062244475\n",
      "Perplexity with 60 Topics: 389.5353921598822\n",
      "Perplexity with 100 Topics: 397.0614653253226\n"
     ]
    }
   ],
   "source": [
    "for nr_comp in [5,10,20,30,40,50,60,100]:\n",
    "    lda_model = LatentDirichletAllocation(n_components=nr_comp, random_state=42, n_jobs=-1, max_iter=10)\n",
    "    lda_model.fit(articles_words)\n",
    "    \n",
    "    perplexity = lda_model.perplexity(articles_words)\n",
    "    print(f\"Perplexity with {nr_comp} Topics: {perplexity}\")"
   ]
  },
  {
   "cell_type": "markdown",
   "metadata": {},
   "source": [
    "#### Hyperparameter Tuning\n",
    "We use the GridSearchCV Module from sklearn to tune the hyperparameters $\\alpha$ and $\\eta$, here called doc_topic_prior and topic_word_prior. We also threw in our range of number of topics in there, to find the best parameter triplet."
   ]
  },
  {
   "cell_type": "code",
   "execution_count": 14,
   "metadata": {},
   "outputs": [
    {
     "name": "stdout",
     "output_type": "stream",
     "text": [
      "{'doc_topic_prior': 0.1, 'n_components': 20, 'topic_word_prior': 0.1}\n"
     ]
    }
   ],
   "source": [
    "from sklearn.model_selection import GridSearchCV\n",
    "#doc_topic_prior == alpha\n",
    "#topic_word_prior == eta\n",
    "param_grid = {'doc_topic_prior': [0.01, 0.1, 1.0], 'topic_word_prior': [0.01, 0.1, 1.0], 'n_components':[20,30,40]}\n",
    "grid_search = GridSearchCV(LatentDirichletAllocation(n_components=30, random_state=42, n_jobs=-1, max_iter=10), param_grid=param_grid, n_jobs=-1)\n",
    "grid_search.fit(articles_words)\n",
    "print(grid_search.best_params_)"
   ]
  },
  {
   "cell_type": "markdown",
   "metadata": {},
   "source": [
    "Here we train the LDA with our selected parameters and 10 times more iterations"
   ]
  },
  {
   "cell_type": "code",
   "execution_count": 15,
   "metadata": {},
   "outputs": [
    {
     "data": {
      "text/html": [
       "<style>#sk-container-id-2 {color: black;}#sk-container-id-2 pre{padding: 0;}#sk-container-id-2 div.sk-toggleable {background-color: white;}#sk-container-id-2 label.sk-toggleable__label {cursor: pointer;display: block;width: 100%;margin-bottom: 0;padding: 0.3em;box-sizing: border-box;text-align: center;}#sk-container-id-2 label.sk-toggleable__label-arrow:before {content: \"▸\";float: left;margin-right: 0.25em;color: #696969;}#sk-container-id-2 label.sk-toggleable__label-arrow:hover:before {color: black;}#sk-container-id-2 div.sk-estimator:hover label.sk-toggleable__label-arrow:before {color: black;}#sk-container-id-2 div.sk-toggleable__content {max-height: 0;max-width: 0;overflow: hidden;text-align: left;background-color: #f0f8ff;}#sk-container-id-2 div.sk-toggleable__content pre {margin: 0.2em;color: black;border-radius: 0.25em;background-color: #f0f8ff;}#sk-container-id-2 input.sk-toggleable__control:checked~div.sk-toggleable__content {max-height: 200px;max-width: 100%;overflow: auto;}#sk-container-id-2 input.sk-toggleable__control:checked~label.sk-toggleable__label-arrow:before {content: \"▾\";}#sk-container-id-2 div.sk-estimator input.sk-toggleable__control:checked~label.sk-toggleable__label {background-color: #d4ebff;}#sk-container-id-2 div.sk-label input.sk-toggleable__control:checked~label.sk-toggleable__label {background-color: #d4ebff;}#sk-container-id-2 input.sk-hidden--visually {border: 0;clip: rect(1px 1px 1px 1px);clip: rect(1px, 1px, 1px, 1px);height: 1px;margin: -1px;overflow: hidden;padding: 0;position: absolute;width: 1px;}#sk-container-id-2 div.sk-estimator {font-family: monospace;background-color: #f0f8ff;border: 1px dotted black;border-radius: 0.25em;box-sizing: border-box;margin-bottom: 0.5em;}#sk-container-id-2 div.sk-estimator:hover {background-color: #d4ebff;}#sk-container-id-2 div.sk-parallel-item::after {content: \"\";width: 100%;border-bottom: 1px solid gray;flex-grow: 1;}#sk-container-id-2 div.sk-label:hover label.sk-toggleable__label {background-color: #d4ebff;}#sk-container-id-2 div.sk-serial::before {content: \"\";position: absolute;border-left: 1px solid gray;box-sizing: border-box;top: 0;bottom: 0;left: 50%;z-index: 0;}#sk-container-id-2 div.sk-serial {display: flex;flex-direction: column;align-items: center;background-color: white;padding-right: 0.2em;padding-left: 0.2em;position: relative;}#sk-container-id-2 div.sk-item {position: relative;z-index: 1;}#sk-container-id-2 div.sk-parallel {display: flex;align-items: stretch;justify-content: center;background-color: white;position: relative;}#sk-container-id-2 div.sk-item::before, #sk-container-id-2 div.sk-parallel-item::before {content: \"\";position: absolute;border-left: 1px solid gray;box-sizing: border-box;top: 0;bottom: 0;left: 50%;z-index: -1;}#sk-container-id-2 div.sk-parallel-item {display: flex;flex-direction: column;z-index: 1;position: relative;background-color: white;}#sk-container-id-2 div.sk-parallel-item:first-child::after {align-self: flex-end;width: 50%;}#sk-container-id-2 div.sk-parallel-item:last-child::after {align-self: flex-start;width: 50%;}#sk-container-id-2 div.sk-parallel-item:only-child::after {width: 0;}#sk-container-id-2 div.sk-dashed-wrapped {border: 1px dashed gray;margin: 0 0.4em 0.5em 0.4em;box-sizing: border-box;padding-bottom: 0.4em;background-color: white;}#sk-container-id-2 div.sk-label label {font-family: monospace;font-weight: bold;display: inline-block;line-height: 1.2em;}#sk-container-id-2 div.sk-label-container {text-align: center;}#sk-container-id-2 div.sk-container {/* jupyter's `normalize.less` sets `[hidden] { display: none; }` but bootstrap.min.css set `[hidden] { display: none !important; }` so we also need the `!important` here to be able to override the default hidden behavior on the sphinx rendered scikit-learn.org. See: https://github.com/scikit-learn/scikit-learn/issues/21755 */display: inline-block !important;position: relative;}#sk-container-id-2 div.sk-text-repr-fallback {display: none;}</style><div id=\"sk-container-id-2\" class=\"sk-top-container\"><div class=\"sk-text-repr-fallback\"><pre>LatentDirichletAllocation(doc_topic_prior=0.1, max_iter=100, n_components=20,\n",
       "                          n_jobs=-1, random_state=42, topic_word_prior=0.1)</pre><b>In a Jupyter environment, please rerun this cell to show the HTML representation or trust the notebook. <br />On GitHub, the HTML representation is unable to render, please try loading this page with nbviewer.org.</b></div><div class=\"sk-container\" hidden><div class=\"sk-item\"><div class=\"sk-estimator sk-toggleable\"><input class=\"sk-toggleable__control sk-hidden--visually\" id=\"sk-estimator-id-2\" type=\"checkbox\" checked><label for=\"sk-estimator-id-2\" class=\"sk-toggleable__label sk-toggleable__label-arrow\">LatentDirichletAllocation</label><div class=\"sk-toggleable__content\"><pre>LatentDirichletAllocation(doc_topic_prior=0.1, max_iter=100, n_components=20,\n",
       "                          n_jobs=-1, random_state=42, topic_word_prior=0.1)</pre></div></div></div></div></div>"
      ],
      "text/plain": [
       "LatentDirichletAllocation(doc_topic_prior=0.1, max_iter=100, n_components=20,\n",
       "                          n_jobs=-1, random_state=42, topic_word_prior=0.1)"
      ]
     },
     "execution_count": 15,
     "metadata": {},
     "output_type": "execute_result"
    }
   ],
   "source": [
    "#Train model with the selected parameters\n",
    "lda_model = LatentDirichletAllocation(n_components=20, random_state=42, n_jobs=-1, max_iter=100, doc_topic_prior= 0.1, topic_word_prior=0.1)\n",
    "lda_model.fit(articles_words)"
   ]
  },
  {
   "cell_type": "markdown",
   "metadata": {},
   "source": [
    "#### Each Topic Discribed in 10 Words\n",
    "We described each topic by listing the 10 most probable words in that topic."
   ]
  },
  {
   "cell_type": "code",
   "execution_count": 16,
   "metadata": {},
   "outputs": [
    {
     "name": "stdout",
     "output_type": "stream",
     "text": [
      "Topic 1: said, government, foreign, trade, exports, year, canadian, canada, south, china\n",
      "Topic 2: said, growth, analysts, year, economic, government, economy, market, policy, markets\n",
      "Topic 3: oil, said, gas, prices, opec, mln, crude, energy, bpd, production\n",
      "Topic 4: said, union, dlrs, spokesman, oil, plant, strike, today, crude, company\n",
      "Topic 5: said, department, credit, usair, court, pacific, twa, air, dlrs, southern\n",
      "Topic 6: bank, pct, rate, banks, market, said, money, rates, stg, today\n",
      "Topic 7: mln, tonnes, production, year, nil, stocks, total, exports, week, imports\n",
      "Topic 8: said, shares, pct, stock, company, offer, share, dlrs, common, group\n",
      "Topic 9: dollar, said, yen, japan, west, currency, exchange, bank, german, baker\n",
      "Topic 10: dlrs, said, mln, year, quarter, company, earnings, share, sales, expects\n",
      "Topic 11: said, wheat, grain, soviet, usda, agriculture, corn, program, crop, farmers\n",
      "Topic 12: said, trade, japan, states, japanese, united, officials, reagan, house, told\n",
      "Topic 13: billion, dlrs, mln, reserves, deficit, fed, surplus, loans, said, bank\n",
      "Topic 14: cts, april, record, dividend, pay, div, prior, split, qtly, march\n",
      "Topic 15: mln, billion, stg, profit, francs, net, tax, group, year, marks\n",
      "Topic 16: said, company, corp, mln, dlrs, unit, sale, acquisition, sell, agreement\n",
      "Topic 17: said, sugar, tonnes, coffee, gold, export, traders, brazil, market, futures\n",
      "Topic 18: said, new, stock, cocoa, meeting, agreement, prices, international, talks, buffer\n",
      "Topic 19: mln, cts, net, loss, shr, dlrs, qtr, revs, profit, year\n",
      "Topic 20: pct, year, january, february, rose, said, rise, december, fell, compared\n"
     ]
    }
   ],
   "source": [
    "topic_word_distributions = lda_model.components_\n",
    "\n",
    "# Display the top 10 words for each topic\n",
    "for topic_idx, topic in enumerate(topic_word_distributions):\n",
    "    top_words_indices = topic.argsort()[:-11:-1]  # Get indices of top 10 words\n",
    "    top_words = [word_index[i] for i in top_words_indices]\n",
    "    \n",
    "    print(f\"Topic {topic_idx + 1}: {', '.join(top_words)}\")"
   ]
  },
  {
   "cell_type": "code",
   "execution_count": 17,
   "metadata": {},
   "outputs": [
    {
     "name": "stdout",
     "output_type": "stream",
     "text": [
      "ASIAN EXPORTERS FEAR DAMAGE FROM U.S.-JAPAN RIFT (top topic: 11)\n",
      "CHINA DAILY SAYS VERMIN EAT 7-12 PCT GRAIN STOCKS (top topic: 0)\n",
      "JAPAN TO REVISE LONG-TERM ENERGY DEMAND DOWNWARDS (top topic: 2)\n",
      "THAI TRADE DEFICIT WIDENS IN FIRST QUARTER (top topic: 19)\n",
      "INDONESIA SEES CPO PRICE RISING SHARPLY (top topic: 2)\n",
      "AUSTRALIAN FOREIGN SHIP BAN ENDS BUT NSW PORTS HIT (top topic: 3)\n",
      "INDONESIAN COMMODITY EXCHANGE MAY EXPAND (top topic: 16)\n",
      "SRI LANKA GETS USDA APPROVAL FOR WHEAT PRICE (top topic: 4)\n",
      "WESTERN MINING TO OPEN NEW GOLD MINE IN AUSTRALIA (top topic: 15)\n",
      "SUMITOMO BANK AIMS AT QUICK RECOVERY FROM MERGER (top topic: 1)\n"
     ]
    },
    {
     "data": {
      "image/png": "[encoded data removed]",
      "text/plain": [
       "<Figure size 1000x600 with 1 Axes>"
      ]
     },
     "metadata": {},
     "output_type": "display_data"
    }
   ],
   "source": [
    "import matplotlib.pyplot as plt\n",
    "\n",
    "topic_distribution = lda_model.transform(articles_words)\n",
    "most_probable_topics = np.argmax(topic_distribution, axis=1)\n",
    "topic_counts = np.bincount(most_probable_topics)\n",
    "\n",
    "for i in range(10):\n",
    "    print(\"{} (top topic: {})\".format(articles[i].split(\"\\n\")[0], most_probable_topics[i]))\n",
    "\n",
    "plt.figure(figsize=(10, 6))\n",
    "plt.bar(range(len(topic_counts)), topic_counts, align='center')\n",
    "plt.xlabel('Topic Index')\n",
    "plt.ylabel('Number of Documents')\n",
    "plt.title('Distribution of Most Probable Topics')\n",
    "plt.xticks(range(len(topic_counts)))\n",
    "plt.show()"
   ]
  },
  {
   "cell_type": "markdown",
   "metadata": {},
   "source": [
    "#### Similarity between Documents\n",
    "From the inferred topic distributions, we can define the topic distance between two documents $d_1$, $d_2$ to be the Kullback-Leibler divergence between their topic distributions. We implemented a function *get_similar(doc_id,doc_topic_distribution)* that takes an integer *doc_id* representing the document index and a matrix that gives the distribution over topics for each document. The function returns a list that contains the indices of all documents in the collection ordered by their topic distance to *doc_id*. \n"
   ]
  },
  {
   "cell_type": "code",
   "execution_count": 18,
   "metadata": {},
   "outputs": [],
   "source": [
    "def get_similar(doc_id, doc_topic_distribution):\n",
    "    # Extract the topic distribution for the specified document\n",
    "    theta_d1 = doc_topic_distribution[doc_id]\n",
    "    \n",
    "    # Calculate Kullback-Leibler divergence with all other documents\n",
    "    kl_divergences = []\n",
    "    for i, theta_d2 in enumerate(doc_topic_distribution):\n",
    "        kl_divergence = np.sum(theta_d1 * np.log(theta_d1 / theta_d2))\n",
    "        kl_divergences.append((i, kl_divergence))\n",
    "    \n",
    "    # Sort documents by their topic distance to doc_id\n",
    "    sorted_documents = sorted(kl_divergences, key=lambda x: x[1])\n",
    "    \n",
    "    # Extract and return the indices of similar documents\n",
    "    similar_documents_indices = [idx for idx, _ in sorted_documents]\n",
    "    \n",
    "    return similar_documents_indices"
   ]
  },
  {
   "cell_type": "code",
   "execution_count": 19,
   "metadata": {},
   "outputs": [
    {
     "name": "stdout",
     "output_type": "stream",
     "text": [
      "[1, 5601, 7377, 2994, 1095, 8734, 1102, 7352, 10367, 6979]\n"
     ]
    }
   ],
   "source": [
    "# lda.transform(X) gives a matrix of documents with their respective topic distribution\n",
    "document_topic_dist = lda_model.transform(articles_words)\n",
    "sim_ids_1 = get_similar(1, document_topic_dist)\n",
    "print(sim_ids_1[:10])"
   ]
  },
  {
   "cell_type": "code",
   "execution_count": 22,
   "metadata": {},
   "outputs": [
    {
     "name": "stdout",
     "output_type": "stream",
     "text": [
      "ARTICLE 1\n",
      "\n",
      " CHINA DAILY SAYS VERMIN EAT 7-12 PCT GRAIN STOCKS\n",
      "  A survey of 19 provinces and seven cities\n",
      "  showed vermin consume between seven and 12 pct of China's grain\n",
      "  stocks, the China Daily said.\n",
      "      It also said that each year 1.575 mln tonnes, or 25 pct, of\n",
      "  China's fruit output are left to rot, and 2.1 mln tonnes, or up\n",
      "  to 30 pct, of its vegetables. The paper blamed the waste on\n",
      "  inadequate storage and bad preservation methods.\n",
      "      It said the government had launched a national programme to\n",
      "  reduce waste, calling for improved technology in storage and\n",
      "  preservation, and greater production of additives. The paper\n",
      "  gave no further details.\n",
      "  \n",
      "\n",
      "\n",
      "ARTICLE 5601\n",
      "\n",
      " AUSTRALIAN WHEAT EXPORTS RISE IN FEBRUARY\n",
      "  Australian wheat shipments rose to\n",
      "  1.33 mln tonnes in February from 1.01 mln in January, an\n",
      "  Australian Wheat Board official said.\n",
      "      February's shipments were down on the 1.54 mln tonnes\n",
      "  shipped in February 1986.\n",
      "      Cumulative shipments for the first five months of the\n",
      "  October/September wheat year were 6.12 mln tonnes, as against\n",
      "  6.54 mln a year earlier, the official said.\n",
      "      The major destinations in February were: China (419,196\n",
      "  tonnes), Egypt (301,909), Iraq (142,055), Japan (110,261),\n",
      "  South Korea (100,847) and the Soviet Union (100,056 tonnes).\n",
      "  \n",
      "\n",
      "\n"
     ]
    }
   ],
   "source": [
    "print(\"ARTICLE 1\\n\\n\",articles[1])\n",
    "print(\"ARTICLE 5601\\n\\n\",articles[5601])"
   ]
  },
  {
   "cell_type": "code",
   "execution_count": null,
   "metadata": {},
   "outputs": [],
   "source": []
  }
 ],
 "metadata": {
  "kernelspec": {
   "display_name": "Python 3 (ipykernel)",
   "language": "python",
   "name": "python3"
  },
  "language_info": {
   "codemirror_mode": {
    "name": "ipython",
    "version": 3
   },
   "file_extension": ".py",
   "mimetype": "text/x-python",
   "name": "python",
   "nbconvert_exporter": "python",
   "pygments_lexer": "ipython3",
   "version": "3.12.0"
  }
 },
 "nbformat": 4,
 "nbformat_minor": 4
}
